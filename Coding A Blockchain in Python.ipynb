{
 "cells": [
  {
   "cell_type": "markdown",
   "id": "6c05f0d4",
   "metadata": {},
   "source": [
    "\n",
    "NeuralCoin(NC)  \n",
    "t1: Anna sends Bob 2 \n",
    "t2: Bob sends Daniel 4.3 NC\n",
    "t3: Mark sends Charlie 3.2 NC \n",
    "\n",
    "B1 (\"AAA\", t1, t2, t3) -> 76fd89, B2 (76fd89, t4, t5, t6) -> 8923ff, B3 (8923ff, t7, t8, t9) ->\n",
    "\n",
    "NeuralHash()\n"
   ]
  },
  {
   "cell_type": "code",
   "execution_count": 1,
   "id": "7fceff20",
   "metadata": {},
   "outputs": [],
   "source": [
    "import hashlib "
   ]
  },
  {
   "cell_type": "code",
   "execution_count": 2,
   "id": "b162ab44",
   "metadata": {},
   "outputs": [],
   "source": [
    "class NeuralCoinBlock:\n",
    "    def __init__(self, previous_Block_hash, transation_list):\n",
    "        self.previous_Block_hash = previous_Block_hash\n",
    "        self.transation_list = transation_list \n",
    "        \n",
    "        self.block_data = \"-\".join(transation_list) + \"-\" + previous_Block_hash\n",
    "        self.block_hash = hashlib.sha256(self.block_data.encode()).hexdigest()"
   ]
  },
  {
   "cell_type": "code",
   "execution_count": 5,
   "id": "49f1f37a",
   "metadata": {},
   "outputs": [],
   "source": [
    "t1 = \"Anna sends 2 NC to Mike\"  \n",
    "t2 = \"Bob sends 4.1 NC to Mike\" \n",
    "t3 = \"Mike sends 3.2 NC to Bob\"  \n",
    "t4 = \"Daniel sends 0.3 NC to Anna\"  \n",
    "t5 = \"Mike sends 1 NC to Charlie\"  \n",
    "t6 = \"Mike sends 5.4 NC to Daniel\"  \n"
   ]
  },
  {
   "cell_type": "code",
   "execution_count": 7,
   "id": "b640445e",
   "metadata": {},
   "outputs": [
    {
     "name": "stdout",
     "output_type": "stream",
     "text": [
      "Anna sends 2 NC to Mike-Bob sends 4.1 NC to Mike-initial string\n",
      "1badc8e649d7f87e08a46a8f5cd110dd865be3e21ad2a7e5f1c61c02253ea876\n"
     ]
    }
   ],
   "source": [
    "initial_block = NeuralCoinBlock(\"initial string\", [t1, t2])\n",
    "print(initial_block.block_data)\n",
    "print(initial_block.block_hash)"
   ]
  },
  {
   "cell_type": "code",
   "execution_count": 9,
   "id": "18a809e7",
   "metadata": {},
   "outputs": [
    {
     "name": "stdout",
     "output_type": "stream",
     "text": [
      "Daniel sends 0.3 NC to Anna-Mike sends 1 NC to Charlie-1badc8e649d7f87e08a46a8f5cd110dd865be3e21ad2a7e5f1c61c02253ea876\n",
      "599b9fc0c687bca84a43560b00f4fcb3a78a46749e21828c2df6b11a9e18acbe\n"
     ]
    }
   ],
   "source": [
    "second_block = NeuralCoinBlock(initial_block.block_hash, [t4, t5])\n",
    "print(second_block.block_data)\n",
    "print(second_block.block_hash)"
   ]
  },
  {
   "cell_type": "code",
   "execution_count": 10,
   "id": "10f5c662",
   "metadata": {},
   "outputs": [
    {
     "name": "stdout",
     "output_type": "stream",
     "text": [
      "Mike sends 5.4 NC to Daniel-599b9fc0c687bca84a43560b00f4fcb3a78a46749e21828c2df6b11a9e18acbe\n",
      "97eb71f202956a30eb9b5aeb504f4241d4edffb02a69eb1e6e81d09a22ff88b3\n"
     ]
    }
   ],
   "source": [
    "third_block = NeuralCoinBlock(second_block.block_hash, [t6])\n",
    "print(third_block.block_data)\n",
    "print(third_block.block_hash)"
   ]
  },
  {
   "cell_type": "code",
   "execution_count": null,
   "id": "a7aa87fe",
   "metadata": {},
   "outputs": [],
   "source": []
  }
 ],
 "metadata": {
  "kernelspec": {
   "display_name": "Python 3",
   "language": "python",
   "name": "python3"
  },
  "language_info": {
   "codemirror_mode": {
    "name": "ipython",
    "version": 3
   },
   "file_extension": ".py",
   "mimetype": "text/x-python",
   "name": "python",
   "nbconvert_exporter": "python",
   "pygments_lexer": "ipython3",
   "version": "3.8.8"
  }
 },
 "nbformat": 4,
 "nbformat_minor": 5
}
